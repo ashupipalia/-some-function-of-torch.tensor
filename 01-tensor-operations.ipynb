{
 "cells": [
  {
   "cell_type": "markdown",
   "metadata": {
    "id": "mf-f4DbxOfLV"
   },
   "source": [
    "# Playing with matrix operations..\n",
    "\n",
    "An short introduction about PyTorch and about the chosen functions. \n",
    "\n",
    "- MUL\n",
    "- ADD\n",
    "- MATMUL\n",
    "- SUM\n",
    "- MATRIX-RANK\n",
    "\n",
    "Before we begin, let's install and import PyTorch"
   ]
  },
  {
   "cell_type": "code",
   "execution_count": 40,
   "metadata": {
    "executionInfo": {
     "elapsed": 4403,
     "status": "ok",
     "timestamp": 1607154978336,
     "user": {
      "displayName": "CS20M004 Ankit Kumar",
      "photoUrl": "",
      "userId": "13004256546795709898"
     },
     "user_tz": -330
    },
    "id": "q_Qua3BOOfLW"
   },
   "outputs": [],
   "source": [
    "# Uncomment and run the appropriate command for your operating system, if required\n",
    "\n",
    "# Linux / Binder\n",
    "# !pip install numpy torch==1.7.0+cpu torchvision==0.8.1+cpu torchaudio==0.7.0 -f https://download.pytorch.org/whl/torch_stable.html\n",
    "\n",
    "# Windows\n",
    "# !pip install numpy torch==1.7.0+cpu torchvision==0.8.1+cpu torchaudio==0.7.0 -f https://download.pytorch.org/whl/torch_stable.html\n",
    "\n",
    "# MacOS\n",
    "# !pip install numpy torch torchvision torchaudio"
   ]
  },
  {
   "cell_type": "code",
   "execution_count": 41,
   "metadata": {
    "executionInfo": {
     "elapsed": 4395,
     "status": "ok",
     "timestamp": 1607154978357,
     "user": {
      "displayName": "CS20M004 Ankit Kumar",
      "photoUrl": "",
      "userId": "13004256546795709898"
     },
     "user_tz": -330
    },
    "id": "MsNE2xJsOfLW"
   },
   "outputs": [],
   "source": [
    "# Import torch and other required modules\n",
    "import torch"
   ]
  },
  {
   "cell_type": "markdown",
   "metadata": {
    "id": "IAV79xrAOfLX"
   },
   "source": [
    "## MUL - torch.mul()\n",
    "\n",
    "in this example- multiply each element of the input with scaler or tensor."
   ]
  },
  {
   "cell_type": "code",
   "execution_count": 42,
   "metadata": {
    "colab": {
     "base_uri": "https://localhost:8080/"
    },
    "executionInfo": {
     "elapsed": 4376,
     "status": "ok",
     "timestamp": 1607154978366,
     "user": {
      "displayName": "CS20M004 Ankit Kumar",
      "photoUrl": "",
      "userId": "13004256546795709898"
     },
     "user_tz": -330
    },
    "id": "usXmdwylOfLX",
    "outputId": "4b5fa1d7-0b94-48aa-c706-0d31f2371f33"
   },
   "outputs": [
    {
     "data": {
      "text/plain": [
       "tensor([ 125.7111,  154.2737, -163.8823,  181.3347])"
      ]
     },
     "execution_count": 42,
     "metadata": {
      "tags": []
     },
     "output_type": "execute_result"
    }
   ],
   "source": [
    "a = torch.randn(4)\n",
    "a\n",
    "torch.mul(a,123)"
   ]
  },
  {
   "cell_type": "markdown",
   "metadata": {
    "id": "4R85stbMOfLb"
   },
   "source": [
    "here we are doing multiply using scaler value 123 with tensor a."
   ]
  },
  {
   "cell_type": "code",
   "execution_count": 43,
   "metadata": {
    "colab": {
     "base_uri": "https://localhost:8080/"
    },
    "executionInfo": {
     "elapsed": 4345,
     "status": "ok",
     "timestamp": 1607154978374,
     "user": {
      "displayName": "CS20M004 Ankit Kumar",
      "photoUrl": "",
      "userId": "13004256546795709898"
     },
     "user_tz": -330
    },
    "id": "kBmIQayyOfLb",
    "outputId": "7bf3058a-6bb2-4e4f-e670-a2189480930f"
   },
   "outputs": [
    {
     "data": {
      "text/plain": [
       "tensor([[-6.8072e-04,  2.3380e-01,  8.5645e-01],\n",
       "        [-1.7308e-02,  1.5567e+00,  3.4778e-01]])"
      ]
     },
     "execution_count": 43,
     "metadata": {
      "tags": []
     },
     "output_type": "execute_result"
    }
   ],
   "source": [
    "a = torch.randn(2,3)\n",
    "a\n",
    "b = torch.randn(2,3)\n",
    "b\n",
    "torch.mul(a,b)"
   ]
  },
  {
   "cell_type": "markdown",
   "metadata": {
    "id": "aw3G_KytOfLb"
   },
   "source": [
    "here we are doing multiply using matrix a with matrix b."
   ]
  },
  {
   "cell_type": "code",
   "execution_count": 44,
   "metadata": {
    "colab": {
     "base_uri": "https://localhost:8080/",
     "height": 197
    },
    "executionInfo": {
     "elapsed": 4412,
     "status": "error",
     "timestamp": 1607154978508,
     "user": {
      "displayName": "CS20M004 Ankit Kumar",
      "photoUrl": "",
      "userId": "13004256546795709898"
     },
     "user_tz": -330
    },
    "id": "3ONc6hrhOfLb",
    "outputId": "044d9eb6-6520-421c-eaed-6155a66983fc"
   },
   "outputs": [
    {
     "ename": "RuntimeError",
     "evalue": "ignored",
     "output_type": "error",
     "traceback": [
      "\u001b[0;31m---------------------------------------------------------------------------\u001b[0m",
      "\u001b[0;31mRuntimeError\u001b[0m                              Traceback (most recent call last)",
      "\u001b[0;32m<ipython-input-44-0b5117ab4523>\u001b[0m in \u001b[0;36m<module>\u001b[0;34m()\u001b[0m\n\u001b[1;32m      3\u001b[0m \u001b[0mb\u001b[0m \u001b[0;34m=\u001b[0m \u001b[0mtorch\u001b[0m\u001b[0;34m.\u001b[0m\u001b[0mrandn\u001b[0m\u001b[0;34m(\u001b[0m\u001b[0;36m3\u001b[0m\u001b[0;34m,\u001b[0m\u001b[0;36m4\u001b[0m\u001b[0;34m)\u001b[0m\u001b[0;34m\u001b[0m\u001b[0;34m\u001b[0m\u001b[0m\n\u001b[1;32m      4\u001b[0m \u001b[0mb\u001b[0m\u001b[0;34m\u001b[0m\u001b[0;34m\u001b[0m\u001b[0m\n\u001b[0;32m----> 5\u001b[0;31m \u001b[0mtorch\u001b[0m\u001b[0;34m.\u001b[0m\u001b[0mmul\u001b[0m\u001b[0;34m(\u001b[0m\u001b[0ma\u001b[0m\u001b[0;34m,\u001b[0m\u001b[0mb\u001b[0m\u001b[0;34m)\u001b[0m\u001b[0;34m\u001b[0m\u001b[0;34m\u001b[0m\u001b[0m\n\u001b[0m",
      "\u001b[0;31mRuntimeError\u001b[0m: The size of tensor a (3) must match the size of tensor b (4) at non-singleton dimension 1"
     ]
    }
   ],
   "source": [
    "a = torch.randn(4,3)\n",
    "a\n",
    "b = torch.randn(3,4)\n",
    "b\n",
    "torch.mul(a,b)"
   ]
  },
  {
   "cell_type": "markdown",
   "metadata": {
    "id": "ipCk5Tx4OfLc"
   },
   "source": [
    "here we are going mistake in b matrix instead of we have to give correct dimension like 4,3."
   ]
  },
  {
   "cell_type": "markdown",
   "metadata": {
    "id": "-NmuDnBROfLc"
   },
   "source": [
    "Multiply each element of the input tensor with scaler or tensor."
   ]
  },
  {
   "cell_type": "markdown",
   "metadata": {
    "id": "nYYUCExhOfLc"
   },
   "source": [
    "Let's save our work using Jovian before continuing."
   ]
  },
  {
   "cell_type": "code",
   "execution_count": null,
   "metadata": {
    "executionInfo": {
     "elapsed": 4247,
     "status": "aborted",
     "timestamp": 1607154978394,
     "user": {
      "displayName": "CS20M004 Ankit Kumar",
      "photoUrl": "",
      "userId": "13004256546795709898"
     },
     "user_tz": -330
    },
    "id": "Z342mdrpOfLc"
   },
   "outputs": [],
   "source": [
    "!pip install jovian --upgrade --quiet"
   ]
  },
  {
   "cell_type": "code",
   "execution_count": null,
   "metadata": {
    "executionInfo": {
     "elapsed": 4221,
     "status": "aborted",
     "timestamp": 1607154978399,
     "user": {
      "displayName": "CS20M004 Ankit Kumar",
      "photoUrl": "",
      "userId": "13004256546795709898"
     },
     "user_tz": -330
    },
    "id": "_3YuViunOfLc"
   },
   "outputs": [],
   "source": [
    "import jovian"
   ]
  },
  {
   "cell_type": "code",
   "execution_count": null,
   "metadata": {
    "executionInfo": {
     "elapsed": 4204,
     "status": "aborted",
     "timestamp": 1607154978419,
     "user": {
      "displayName": "CS20M004 Ankit Kumar",
      "photoUrl": "",
      "userId": "13004256546795709898"
     },
     "user_tz": -330
    },
    "id": "JPRHd7VuOfLc"
   },
   "outputs": [],
   "source": [
    "jovian.commit(project='01-tensor-operations')\n"
   ]
  },
  {
   "cell_type": "markdown",
   "metadata": {
    "id": "Xxz7KxBrOfLe"
   },
   "source": [
    "ADD function- torch.add()\n",
    "\n",
    "Addition element wise with two matrix."
   ]
  },
  {
   "cell_type": "code",
   "execution_count": null,
   "metadata": {
    "executionInfo": {
     "elapsed": 4167,
     "status": "aborted",
     "timestamp": 1607154978424,
     "user": {
      "displayName": "CS20M004 Ankit Kumar",
      "photoUrl": "",
      "userId": "13004256546795709898"
     },
     "user_tz": -330
    },
    "id": "OEnJxH2nOfLe"
   },
   "outputs": [],
   "source": [
    "a= torch.randn(5)\n",
    "a\n",
    "a= torch.add(a,10)\n",
    "a"
   ]
  },
  {
   "cell_type": "markdown",
   "metadata": {
    "id": "omdD49EnOfLe"
   },
   "source": [
    "here we are adding two matrix. element wise"
   ]
  },
  {
   "cell_type": "code",
   "execution_count": null,
   "metadata": {
    "executionInfo": {
     "elapsed": 4138,
     "status": "aborted",
     "timestamp": 1607154978430,
     "user": {
      "displayName": "CS20M004 Ankit Kumar",
      "photoUrl": "",
      "userId": "13004256546795709898"
     },
     "user_tz": -330
    },
    "id": "kdrQ_xEwOfLe"
   },
   "outputs": [],
   "source": [
    "a = torch.randn(2,3)\n",
    "a\n",
    "b = torch.randn(2,3)\n",
    "torch.add(a,b,alpha=15)\n"
   ]
  },
  {
   "cell_type": "markdown",
   "metadata": {
    "id": "uMGnkwpCOfLe"
   },
   "source": [
    "here adding two matrix or tensor, it showing some error"
   ]
  },
  {
   "cell_type": "code",
   "execution_count": null,
   "metadata": {
    "executionInfo": {
     "elapsed": 4094,
     "status": "aborted",
     "timestamp": 1607154978434,
     "user": {
      "displayName": "CS20M004 Ankit Kumar",
      "photoUrl": "",
      "userId": "13004256546795709898"
     },
     "user_tz": -330
    },
    "id": "HUoEExkkOfLe"
   },
   "outputs": [],
   "source": [
    "a = torch.randn(2,3)\n",
    "a\n",
    "b = torch.randn(3,2)\n",
    "torch.add(a,b,alpha=15)"
   ]
  },
  {
   "cell_type": "markdown",
   "metadata": {
    "id": "baKSaR0xOfLe"
   },
   "source": [
    "we are giving wrong dimension"
   ]
  },
  {
   "cell_type": "markdown",
   "metadata": {
    "id": "WM1oD-wLOfLe"
   },
   "source": [
    "if need to addition in two matrix then we can use this function"
   ]
  },
  {
   "cell_type": "code",
   "execution_count": null,
   "metadata": {
    "executionInfo": {
     "elapsed": 4065,
     "status": "aborted",
     "timestamp": 1607154978449,
     "user": {
      "displayName": "CS20M004 Ankit Kumar",
      "photoUrl": "",
      "userId": "13004256546795709898"
     },
     "user_tz": -330
    },
    "id": "qKSt23XvOfLe"
   },
   "outputs": [],
   "source": [
    "jovian.commit(project='01-tensor-operations')"
   ]
  },
  {
   "cell_type": "markdown",
   "metadata": {
    "id": "N5cZ1EcBOfLf"
   },
   "source": [
    "matmul function- torch.matmul()\n",
    "\n",
    "we are calculating matrix multiplication between two matrices."
   ]
  },
  {
   "cell_type": "code",
   "execution_count": null,
   "metadata": {
    "executionInfo": {
     "elapsed": 4029,
     "status": "aborted",
     "timestamp": 1607154978455,
     "user": {
      "displayName": "CS20M004 Ankit Kumar",
      "photoUrl": "",
      "userId": "13004256546795709898"
     },
     "user_tz": -330
    },
    "id": "EqR01IS7OfLf"
   },
   "outputs": [],
   "source": [
    "a = torch.randn(3,4)\n",
    "a\n",
    "b= torch.randn(4,2)\n",
    "b\n",
    "torch.matmul(a,b)"
   ]
  },
  {
   "cell_type": "markdown",
   "metadata": {
    "id": "FkgpIcWxOfLf"
   },
   "source": [
    "matrix multiplication between 3d matrix and 1d matrix."
   ]
  },
  {
   "cell_type": "code",
   "execution_count": null,
   "metadata": {
    "executionInfo": {
     "elapsed": 3996,
     "status": "aborted",
     "timestamp": 1607154978457,
     "user": {
      "displayName": "CS20M004 Ankit Kumar",
      "photoUrl": "",
      "userId": "13004256546795709898"
     },
     "user_tz": -330
    },
    "id": "dy-Db6MQOfLf"
   },
   "outputs": [],
   "source": [
    "a= torch.randn(4,3,1)\n",
    "a\n",
    "b = torch.randn(1,4)\n",
    "torch.matmul(a,b)"
   ]
  },
  {
   "cell_type": "markdown",
   "metadata": {
    "id": "Zzgluo3QOfLf"
   },
   "source": [
    "we are facing error here"
   ]
  },
  {
   "cell_type": "code",
   "execution_count": null,
   "metadata": {
    "executionInfo": {
     "elapsed": 3963,
     "status": "aborted",
     "timestamp": 1607154978465,
     "user": {
      "displayName": "CS20M004 Ankit Kumar",
      "photoUrl": "",
      "userId": "13004256546795709898"
     },
     "user_tz": -330
    },
    "id": "0BL1VJNNOfLf"
   },
   "outputs": [],
   "source": [
    "a= torch.randn(4,3,1)\n",
    "a\n",
    "b = torch.randn(4)\n",
    "torch.matmul(a,b)"
   ]
  },
  {
   "cell_type": "markdown",
   "metadata": {
    "id": "iuZMfiCMOfLf"
   },
   "source": [
    "error is showing that we are giving wrong dimension"
   ]
  },
  {
   "cell_type": "markdown",
   "metadata": {
    "id": "RM6GRZ-MOfLf"
   },
   "source": [
    "whenever we need matrix multiplication then we can use matmul function"
   ]
  },
  {
   "cell_type": "code",
   "execution_count": null,
   "metadata": {
    "executionInfo": {
     "elapsed": 3903,
     "status": "aborted",
     "timestamp": 1607154978471,
     "user": {
      "displayName": "CS20M004 Ankit Kumar",
      "photoUrl": "",
      "userId": "13004256546795709898"
     },
     "user_tz": -330
    },
    "id": "YGtcHLEwOfLf"
   },
   "outputs": [],
   "source": [
    "jovian.commit(project='01-tensor-operations')"
   ]
  },
  {
   "cell_type": "markdown",
   "metadata": {
    "id": "9aUUT-A2OfLg"
   },
   "source": [
    "sum function- torch.sum()\n",
    "\n",
    "it will add all the element and give single scaler value "
   ]
  },
  {
   "cell_type": "code",
   "execution_count": null,
   "metadata": {
    "executionInfo": {
     "elapsed": 3845,
     "status": "aborted",
     "timestamp": 1607154978475,
     "user": {
      "displayName": "CS20M004 Ankit Kumar",
      "photoUrl": "",
      "userId": "13004256546795709898"
     },
     "user_tz": -330
    },
    "id": "MEjlt_3DOfLg"
   },
   "outputs": [],
   "source": [
    "a = torch.randn(4,5)\n",
    "a\n",
    "torch.sum(a)"
   ]
  },
  {
   "cell_type": "markdown",
   "metadata": {
    "id": "MvudbGWkOfLg"
   },
   "source": [
    "here matrix a dimension is 4,5 we are showing sum of the a matrix"
   ]
  },
  {
   "cell_type": "code",
   "execution_count": null,
   "metadata": {
    "executionInfo": {
     "elapsed": 3794,
     "status": "aborted",
     "timestamp": 1607154978479,
     "user": {
      "displayName": "CS20M004 Ankit Kumar",
      "photoUrl": "",
      "userId": "13004256546795709898"
     },
     "user_tz": -330
    },
    "id": "aK-I2aCfOfLg"
   },
   "outputs": [],
   "source": [
    "a = torch.randn(2,2)\n",
    "print(a)\n",
    "b=torch.sum(a,1)\n",
    "print(b)"
   ]
  },
  {
   "cell_type": "markdown",
   "metadata": {
    "id": "LdBNqRHWOfLg"
   },
   "source": [
    "here in a marix it will give us sum of row wise"
   ]
  },
  {
   "cell_type": "code",
   "execution_count": null,
   "metadata": {
    "executionInfo": {
     "elapsed": 3740,
     "status": "aborted",
     "timestamp": 1607154978481,
     "user": {
      "displayName": "CS20M004 Ankit Kumar",
      "photoUrl": "",
      "userId": "13004256546795709898"
     },
     "user_tz": -330
    },
    "id": "RDZ5V-y0OfLg"
   },
   "outputs": [],
   "source": [
    "a = torch.arrange(1*5)\n",
    "torch.sum(a,(2,1))\n"
   ]
  },
  {
   "cell_type": "markdown",
   "metadata": {
    "id": "7kxZx2V9OfLg"
   },
   "source": [
    "error because of misisng view() funciton in firstline"
   ]
  },
  {
   "cell_type": "markdown",
   "metadata": {
    "id": "6aplXbdmOfLg"
   },
   "source": [
    "Closing comments about when to use this function"
   ]
  },
  {
   "cell_type": "code",
   "execution_count": null,
   "metadata": {
    "executionInfo": {
     "elapsed": 3681,
     "status": "aborted",
     "timestamp": 1607154978488,
     "user": {
      "displayName": "CS20M004 Ankit Kumar",
      "photoUrl": "",
      "userId": "13004256546795709898"
     },
     "user_tz": -330
    },
    "id": "ltuTdGZBOfLh"
   },
   "outputs": [],
   "source": [
    "jovian.commit(project='01-tensor-operations')"
   ]
  },
  {
   "cell_type": "markdown",
   "metadata": {
    "id": "oP30XG5sOfLh"
   },
   "source": [
    "matrix_ranlk function()- torch.matrix_rank\n",
    "\n",
    "it will give rank of the matrix"
   ]
  },
  {
   "cell_type": "code",
   "execution_count": null,
   "metadata": {
    "executionInfo": {
     "elapsed": 3637,
     "status": "aborted",
     "timestamp": 1607154978491,
     "user": {
      "displayName": "CS20M004 Ankit Kumar",
      "photoUrl": "",
      "userId": "13004256546795709898"
     },
     "user_tz": -330
    },
    "id": "NGWD624rOfLh"
   },
   "outputs": [],
   "source": [
    "a= torch.eye(5)\n",
    "c=torch.matrix_rank(a)\n",
    "print(c)\n",
    "b= torch.randn(3,3)\n",
    "torch.matrix_rank(b)"
   ]
  },
  {
   "cell_type": "markdown",
   "metadata": {
    "id": "akWhXvXHOfLh"
   },
   "source": [
    "it will give us rank of matrix b and a"
   ]
  },
  {
   "cell_type": "code",
   "execution_count": null,
   "metadata": {
    "executionInfo": {
     "elapsed": 3598,
     "status": "aborted",
     "timestamp": 1607154978494,
     "user": {
      "displayName": "CS20M004 Ankit Kumar",
      "photoUrl": "",
      "userId": "13004256546795709898"
     },
     "user_tz": -330
    },
    "id": "hpuHZJ5FOfLh"
   },
   "outputs": [],
   "source": [
    "b = torch.eye(7)\n",
    "b[0,0]=0\n",
    "torch.matrix_rank(b)"
   ]
  },
  {
   "cell_type": "markdown",
   "metadata": {
    "id": "L994_eMGOfLh"
   },
   "source": [
    "it will give us rank of the matrix b"
   ]
  },
  {
   "cell_type": "code",
   "execution_count": null,
   "metadata": {
    "executionInfo": {
     "elapsed": 3559,
     "status": "aborted",
     "timestamp": 1607154978497,
     "user": {
      "displayName": "CS20M004 Ankit Kumar",
      "photoUrl": "",
      "userId": "13004256546795709898"
     },
     "user_tz": -330
    },
    "id": "3-NMgkRUOfLh"
   },
   "outputs": [],
   "source": [
    "b = [1,1,1]\n",
    "torch.matrix_rank(b)"
   ]
  },
  {
   "cell_type": "markdown",
   "metadata": {
    "id": "ZjQB5tXFOfLh"
   },
   "source": [
    "wrong way to create tensor"
   ]
  },
  {
   "cell_type": "markdown",
   "metadata": {
    "id": "9eG-umB1OfLh"
   },
   "source": [
    "we can calculating rank from this function."
   ]
  },
  {
   "cell_type": "code",
   "execution_count": 46,
   "metadata": {
    "colab": {
     "base_uri": "https://localhost:8080/",
     "height": 103
    },
    "executionInfo": {
     "elapsed": 5279,
     "status": "ok",
     "timestamp": 1607155375662,
     "user": {
      "displayName": "CS20M004 Ankit Kumar",
      "photoUrl": "",
      "userId": "13004256546795709898"
     },
     "user_tz": -330
    },
    "id": "QeTkxy2HOfLh",
    "outputId": "efb4c118-25f6-4b56-940b-017242cd1087"
   },
   "outputs": [
    {
     "name": "stdout",
     "output_type": "stream",
     "text": [
      "[jovian] Detected Colab notebook...\u001b[0m\n",
      "[jovian] Uploading colab notebook to Jovian...\u001b[0m\n",
      "[jovian] Capturing environment..\u001b[0m\n",
      "[jovian] Committed successfully! https://jovian.ai/cs20m004/01-tensor-operations\u001b[0m\n"
     ]
    },
    {
     "data": {
      "application/vnd.google.colaboratory.intrinsic+json": {
       "type": "string"
      },
      "text/plain": [
       "'https://jovian.ai/cs20m004/01-tensor-operations'"
      ]
     },
     "execution_count": 46,
     "metadata": {
      "tags": []
     },
     "output_type": "execute_result"
    }
   ],
   "source": [
    "jovian.commit(project='01-tensor-operations')"
   ]
  },
  {
   "cell_type": "markdown",
   "metadata": {
    "id": "vsemocsLOfLi"
   },
   "source": [
    "## Conclusion\n",
    "\n",
    "we can use these operation in deep learning."
   ]
  },
  {
   "cell_type": "markdown",
   "metadata": {
    "id": "roXujBOIOfLi"
   },
   "source": [
    "## Reference Links\n",
    "Provide links to your references and other interesting articles about tensors\n",
    "* Official documentation for tensor operations: https://pytorch.org/docs/stable/torch.html\n",
    "* ..."
   ]
  },
  {
   "cell_type": "code",
   "execution_count": 47,
   "metadata": {
    "colab": {
     "base_uri": "https://localhost:8080/",
     "height": 103
    },
    "executionInfo": {
     "elapsed": 4609,
     "status": "ok",
     "timestamp": 1607155650258,
     "user": {
      "displayName": "CS20M004 Ankit Kumar",
      "photoUrl": "",
      "userId": "13004256546795709898"
     },
     "user_tz": -330
    },
    "id": "fer5qzIFOfLi",
    "outputId": "293978ef-4e13-485c-8850-99f3a6106cd5"
   },
   "outputs": [
    {
     "name": "stdout",
     "output_type": "stream",
     "text": [
      "[jovian] Detected Colab notebook...\u001b[0m\n",
      "[jovian] Uploading colab notebook to Jovian...\u001b[0m\n",
      "[jovian] Capturing environment..\u001b[0m\n",
      "[jovian] Committed successfully! https://jovian.ai/cs20m004/01-tensor-operations\u001b[0m\n"
     ]
    },
    {
     "data": {
      "application/vnd.google.colaboratory.intrinsic+json": {
       "type": "string"
      },
      "text/plain": [
       "'https://jovian.ai/cs20m004/01-tensor-operations'"
      ]
     },
     "execution_count": 47,
     "metadata": {
      "tags": []
     },
     "output_type": "execute_result"
    }
   ],
   "source": [
    "jovian.commit(project='01-tensor-operations')"
   ]
  },
  {
   "cell_type": "code",
   "execution_count": 45,
   "metadata": {
    "colab": {
     "base_uri": "https://localhost:8080/"
    },
    "executionInfo": {
     "elapsed": 1346,
     "status": "ok",
     "timestamp": 1607155260447,
     "user": {
      "displayName": "CS20M004 Ankit Kumar",
      "photoUrl": "",
      "userId": "13004256546795709898"
     },
     "user_tz": -330
    },
    "id": "wpQUCN_FOfLi",
    "outputId": "2a43b46f-b0d9-4ec2-9fda-ef65f52a0ec7"
   },
   "outputs": [
    {
     "name": "stdout",
     "output_type": "stream",
     "text": [
      "[jovian] Detected Colab notebook...\u001b[0m\n"
     ]
    },
    {
     "name": "stderr",
     "output_type": "stream",
     "text": [
      "\u001b[31m[jovian] Error: Please provide the project argument e.g. jovian.commit(project='my-project')\u001b[0m\n"
     ]
    }
   ],
   "source": []
  }
 ],
 "metadata": {
  "colab": {
   "name": "01-tensor-operations.ipynb",
   "provenance": []
  },
  "language_info": {
   "codemirror_mode": {
    "name": "ipython",
    "version": 3
   },
   "file_extension": ".py",
   "mimetype": "text/x-python",
   "name": "python",
   "nbconvert_exporter": "python",
   "pygments_lexer": "ipython3",
   "version": "3.8.5"
  }
 },
 "nbformat": 4,
 "nbformat_minor": 0
}